{
  "cells": [
    {
      "cell_type": "code",
      "execution_count": null,
      "metadata": {
        "id": "JtsbtUXskciM"
      },
      "outputs": [],
      "source": [
        "import numpy as np\n",
        "import pandas as pd\n",
        "from sklearn.feature_extraction.text import TfidfVectorizer\n",
        "from sklearn.feature_extraction.text import CountVectorizer\n",
        "from sklearn.metrics.pairwise import linear_kernel\n",
        "import joblib"
      ]
    },
    {
      "cell_type": "code",
      "execution_count": null,
      "metadata": {
        "colab": {
          "base_uri": "https://localhost:8080/",
          "height": 323
        },
        "id": "tLdScMeec-Zg",
        "outputId": "24d4fdca-373e-4544-c113-dbd6f0cc74ee"
      },
      "outputs": [
        {
          "data": {
            "application/vnd.google.colaboratory.intrinsic+json": {
              "summary": "{\n  \"name\": \"df\",\n  \"rows\": 23701,\n  \"fields\": [\n    {\n      \"column\": \"id\",\n      \"properties\": {\n        \"dtype\": \"number\",\n        \"std\": 106677,\n        \"min\": 2,\n        \"max\": 463800,\n        \"num_unique_values\": 23701,\n        \"samples\": [\n          41764,\n          32085,\n          15148\n        ],\n        \"semantic_type\": \"\",\n        \"description\": \"\"\n      }\n    },\n    {\n      \"column\": \"title\",\n      \"properties\": {\n        \"dtype\": \"string\",\n        \"num_unique_values\": 23701,\n        \"samples\": [\n          \"The Best Intentions\",\n          \"Vincent\",\n          \"Man in the Chair\"\n        ],\n        \"semantic_type\": \"\",\n        \"description\": \"\"\n      }\n    },\n    {\n      \"column\": \"genres\",\n      \"properties\": {\n        \"dtype\": \"category\",\n        \"num_unique_values\": 1640,\n        \"samples\": [\n          \"[\\\"Fantasy\\\", \\\"Music\\\", \\\"Romance\\\"]\",\n          \"[\\\"Action\\\", \\\"Foreign\\\", \\\"Western\\\"]\",\n          \"[\\\"War\\\", \\\"Drama\\\", \\\"Foreign\\\"]\"\n        ],\n        \"semantic_type\": \"\",\n        \"description\": \"\"\n      }\n    },\n    {\n      \"column\": \"overview\",\n      \"properties\": {\n        \"dtype\": \"string\",\n        \"num_unique_values\": 23697,\n        \"samples\": [\n          \"The story of Ingmar Bergman's parents. In 1909, poor theology student Henrik Bergman falls in love with Anna \\u00c5kerbloom, the daughter of a rich family in Uppsala. After their wedding Henrik becomes a priest in the north of Sweden. After a few years Anna can't stand living in the rural county with the uncouth people. She returns to Uppsala, Henrik stays in the north.\",\n          \"Young Vincent Malloy dreams of being just like Vincent Price and loses himself in macabre daydreams which annoys his mother.\",\n          \"The story of an aspiring young filmmaker's encounter with a grumpy fount of movie lore.\"\n        ],\n        \"semantic_type\": \"\",\n        \"description\": \"\"\n      }\n    },\n    {\n      \"column\": \"production_companies\",\n      \"properties\": {\n        \"dtype\": \"string\",\n        \"num_unique_values\": 16206,\n        \"samples\": [\n          \"[\\\"United Artists\\\", \\\"David V. Picker Productions\\\", \\\"Twin Roads Productions\\\"]\",\n          \"[\\\"GAGA\\\"]\",\n          \"[\\\"Incorporated Television Company (ITC)\\\", \\\"Part II Productions\\\", \\\"Millimeter Films\\\"]\"\n        ],\n        \"semantic_type\": \"\",\n        \"description\": \"\"\n      }\n    },\n    {\n      \"column\": \"production_countries\",\n      \"properties\": {\n        \"dtype\": \"category\",\n        \"num_unique_values\": 1456,\n        \"samples\": [\n          \"[\\\"Switzerland\\\", \\\"Spain\\\", \\\"France\\\"]\",\n          \"[\\\"Ireland\\\", \\\"United States of America\\\", \\\"United Kingdom\\\"]\",\n          \"[\\\"France\\\", \\\"Netherlands\\\", \\\"United States of America\\\"]\"\n        ],\n        \"semantic_type\": \"\",\n        \"description\": \"\"\n      }\n    },\n    {\n      \"column\": \"release_date\",\n      \"properties\": {\n        \"dtype\": \"object\",\n        \"num_unique_values\": 12870,\n        \"samples\": [\n          \"2015-09-26\",\n          \"1951-11-27\",\n          \"1995-12-09\"\n        ],\n        \"semantic_type\": \"\",\n        \"description\": \"\"\n      }\n    },\n    {\n      \"column\": \"runtime\",\n      \"properties\": {\n        \"dtype\": \"number\",\n        \"std\": 29,\n        \"min\": 0,\n        \"max\": 1256,\n        \"num_unique_values\": 276,\n        \"samples\": [\n          117,\n          152,\n          35\n        ],\n        \"semantic_type\": \"\",\n        \"description\": \"\"\n      }\n    },\n    {\n      \"column\": \"vote_average\",\n      \"properties\": {\n        \"dtype\": \"number\",\n        \"std\": 1.5354081348702822,\n        \"min\": 0.0,\n        \"max\": 10.0,\n        \"num_unique_values\": 89,\n        \"samples\": [\n          8.2,\n          3.6,\n          7.5\n        ],\n        \"semantic_type\": \"\",\n        \"description\": \"\"\n      }\n    },\n    {\n      \"column\": \"vote_count\",\n      \"properties\": {\n        \"dtype\": \"number\",\n        \"std\": 642,\n        \"min\": 0,\n        \"max\": 14075,\n        \"num_unique_values\": 1744,\n        \"samples\": [\n          2470,\n          209,\n          565\n        ],\n        \"semantic_type\": \"\",\n        \"description\": \"\"\n      }\n    },\n    {\n      \"column\": \"cast\",\n      \"properties\": {\n        \"dtype\": \"string\",\n        \"num_unique_values\": 23329,\n        \"samples\": [\n          \"[\\\"Samuel Haus\\\", \\\"Alexandra Rapaport\\\", \\\"Jacob Ericksson\\\"]\",\n          \"[\\\"Michael Fassbender\\\", \\\"Brendan Gleeson\\\", \\\"Lyndsey Marshal\\\"]\",\n          \"[\\\"Bette Midler\\\", \\\"Barbara Hershey\\\", \\\"John Heard\\\"]\"\n        ],\n        \"semantic_type\": \"\",\n        \"description\": \"\"\n      }\n    },\n    {\n      \"column\": \"keywords\",\n      \"properties\": {\n        \"dtype\": \"string\",\n        \"num_unique_values\": 20782,\n        \"samples\": [\n          \"[\\\"dream\\\", \\\"chimp\\\", \\\"manipulation\\\"]\",\n          \"[\\\"mountain\\\", \\\"camp\\\", \\\"waiter\\\"]\",\n          \"[\\\"vororte\\\", \\\"urban life\\\", \\\"suburbia\\\"]\"\n        ],\n        \"semantic_type\": \"\",\n        \"description\": \"\"\n      }\n    },\n    {\n      \"column\": \"director\",\n      \"properties\": {\n        \"dtype\": \"category\",\n        \"num_unique_values\": 9530,\n        \"samples\": [\n          \"Ren\\u00e9 Laloux\",\n          \"Hitoshi Matsumoto\",\n          \"Stephen Merchant\"\n        ],\n        \"semantic_type\": \"\",\n        \"description\": \"\"\n      }\n    },\n    {\n      \"column\": \"weight_rating\",\n      \"properties\": {\n        \"dtype\": \"number\",\n        \"std\": 0.1924922441704413,\n        \"min\": 4.929,\n        \"max\": 8.202,\n        \"num_unique_values\": 1340,\n        \"samples\": [\n          5.999,\n          5.789,\n          6.17\n        ],\n        \"semantic_type\": \"\",\n        \"description\": \"\"\n      }\n    }\n  ]\n}",
              "type": "dataframe",
              "variable_name": "df"
            },
            "text/html": [
              "\n",
              "  <div id=\"df-86277d70-54cd-45f7-9d8f-f0e86000c9ca\" class=\"colab-df-container\">\n",
              "    <div>\n",
              "<style scoped>\n",
              "    .dataframe tbody tr th:only-of-type {\n",
              "        vertical-align: middle;\n",
              "    }\n",
              "\n",
              "    .dataframe tbody tr th {\n",
              "        vertical-align: top;\n",
              "    }\n",
              "\n",
              "    .dataframe thead th {\n",
              "        text-align: right;\n",
              "    }\n",
              "</style>\n",
              "<table border=\"1\" class=\"dataframe\">\n",
              "  <thead>\n",
              "    <tr style=\"text-align: right;\">\n",
              "      <th></th>\n",
              "      <th>id</th>\n",
              "      <th>title</th>\n",
              "      <th>genres</th>\n",
              "      <th>overview</th>\n",
              "      <th>production_companies</th>\n",
              "      <th>production_countries</th>\n",
              "      <th>release_date</th>\n",
              "      <th>runtime</th>\n",
              "      <th>vote_average</th>\n",
              "      <th>vote_count</th>\n",
              "      <th>cast</th>\n",
              "      <th>keywords</th>\n",
              "      <th>director</th>\n",
              "      <th>weight_rating</th>\n",
              "    </tr>\n",
              "  </thead>\n",
              "  <tbody>\n",
              "    <tr>\n",
              "      <th>0</th>\n",
              "      <td>862</td>\n",
              "      <td>Toy Story</td>\n",
              "      <td>[\"Animation\", \"Comedy\", \"Family\"]</td>\n",
              "      <td>Led by Woody, Andy's toys live happily in his ...</td>\n",
              "      <td>[\"Pixar Animation Studios\"]</td>\n",
              "      <td>[\"United States of America\"]</td>\n",
              "      <td>1995-10-30</td>\n",
              "      <td>81</td>\n",
              "      <td>7.7</td>\n",
              "      <td>5415</td>\n",
              "      <td>[\"Tom Hanks\", \"Tim Allen\", \"Don Rickles\"]</td>\n",
              "      <td>[\"jealousy\", \"toy\", \"boy\"]</td>\n",
              "      <td>John Lasseter</td>\n",
              "      <td>7.401</td>\n",
              "    </tr>\n",
              "    <tr>\n",
              "      <th>1</th>\n",
              "      <td>8844</td>\n",
              "      <td>Jumanji</td>\n",
              "      <td>[\"Adventure\", \"Fantasy\", \"Family\"]</td>\n",
              "      <td>When siblings Judy and Peter discover an encha...</td>\n",
              "      <td>[\"TriStar Pictures\", \"Teitler Film\", \"Intersco...</td>\n",
              "      <td>[\"United States of America\"]</td>\n",
              "      <td>1995-12-15</td>\n",
              "      <td>104</td>\n",
              "      <td>6.9</td>\n",
              "      <td>2413</td>\n",
              "      <td>[\"Robin Williams\", \"Jonathan Hyde\", \"Kirsten D...</td>\n",
              "      <td>[\"board game\", \"disappearance\", \"based on chil...</td>\n",
              "      <td>Joe Johnston</td>\n",
              "      <td>6.592</td>\n",
              "    </tr>\n",
              "  </tbody>\n",
              "</table>\n",
              "</div>\n",
              "    <div class=\"colab-df-buttons\">\n",
              "\n",
              "  <div class=\"colab-df-container\">\n",
              "    <button class=\"colab-df-convert\" onclick=\"convertToInteractive('df-86277d70-54cd-45f7-9d8f-f0e86000c9ca')\"\n",
              "            title=\"Convert this dataframe to an interactive table.\"\n",
              "            style=\"display:none;\">\n",
              "\n",
              "  <svg xmlns=\"http://www.w3.org/2000/svg\" height=\"24px\" viewBox=\"0 -960 960 960\">\n",
              "    <path d=\"M120-120v-720h720v720H120Zm60-500h600v-160H180v160Zm220 220h160v-160H400v160Zm0 220h160v-160H400v160ZM180-400h160v-160H180v160Zm440 0h160v-160H620v160ZM180-180h160v-160H180v160Zm440 0h160v-160H620v160Z\"/>\n",
              "  </svg>\n",
              "    </button>\n",
              "\n",
              "  <style>\n",
              "    .colab-df-container {\n",
              "      display:flex;\n",
              "      gap: 12px;\n",
              "    }\n",
              "\n",
              "    .colab-df-convert {\n",
              "      background-color: #E8F0FE;\n",
              "      border: none;\n",
              "      border-radius: 50%;\n",
              "      cursor: pointer;\n",
              "      display: none;\n",
              "      fill: #1967D2;\n",
              "      height: 32px;\n",
              "      padding: 0 0 0 0;\n",
              "      width: 32px;\n",
              "    }\n",
              "\n",
              "    .colab-df-convert:hover {\n",
              "      background-color: #E2EBFA;\n",
              "      box-shadow: 0px 1px 2px rgba(60, 64, 67, 0.3), 0px 1px 3px 1px rgba(60, 64, 67, 0.15);\n",
              "      fill: #174EA6;\n",
              "    }\n",
              "\n",
              "    .colab-df-buttons div {\n",
              "      margin-bottom: 4px;\n",
              "    }\n",
              "\n",
              "    [theme=dark] .colab-df-convert {\n",
              "      background-color: #3B4455;\n",
              "      fill: #D2E3FC;\n",
              "    }\n",
              "\n",
              "    [theme=dark] .colab-df-convert:hover {\n",
              "      background-color: #434B5C;\n",
              "      box-shadow: 0px 1px 3px 1px rgba(0, 0, 0, 0.15);\n",
              "      filter: drop-shadow(0px 1px 2px rgba(0, 0, 0, 0.3));\n",
              "      fill: #FFFFFF;\n",
              "    }\n",
              "  </style>\n",
              "\n",
              "    <script>\n",
              "      const buttonEl =\n",
              "        document.querySelector('#df-86277d70-54cd-45f7-9d8f-f0e86000c9ca button.colab-df-convert');\n",
              "      buttonEl.style.display =\n",
              "        google.colab.kernel.accessAllowed ? 'block' : 'none';\n",
              "\n",
              "      async function convertToInteractive(key) {\n",
              "        const element = document.querySelector('#df-86277d70-54cd-45f7-9d8f-f0e86000c9ca');\n",
              "        const dataTable =\n",
              "          await google.colab.kernel.invokeFunction('convertToInteractive',\n",
              "                                                    [key], {});\n",
              "        if (!dataTable) return;\n",
              "\n",
              "        const docLinkHtml = 'Like what you see? Visit the ' +\n",
              "          '<a target=\"_blank\" href=https://colab.research.google.com/notebooks/data_table.ipynb>data table notebook</a>'\n",
              "          + ' to learn more about interactive tables.';\n",
              "        element.innerHTML = '';\n",
              "        dataTable['output_type'] = 'display_data';\n",
              "        await google.colab.output.renderOutput(dataTable, element);\n",
              "        const docLink = document.createElement('div');\n",
              "        docLink.innerHTML = docLinkHtml;\n",
              "        element.appendChild(docLink);\n",
              "      }\n",
              "    </script>\n",
              "  </div>\n",
              "\n",
              "\n",
              "<div id=\"df-591c1644-58b0-49d6-bf0a-2801d7434cdb\">\n",
              "  <button class=\"colab-df-quickchart\" onclick=\"quickchart('df-591c1644-58b0-49d6-bf0a-2801d7434cdb')\"\n",
              "            title=\"Suggest charts\"\n",
              "            style=\"display:none;\">\n",
              "\n",
              "<svg xmlns=\"http://www.w3.org/2000/svg\" height=\"24px\"viewBox=\"0 0 24 24\"\n",
              "     width=\"24px\">\n",
              "    <g>\n",
              "        <path d=\"M19 3H5c-1.1 0-2 .9-2 2v14c0 1.1.9 2 2 2h14c1.1 0 2-.9 2-2V5c0-1.1-.9-2-2-2zM9 17H7v-7h2v7zm4 0h-2V7h2v10zm4 0h-2v-4h2v4z\"/>\n",
              "    </g>\n",
              "</svg>\n",
              "  </button>\n",
              "\n",
              "<style>\n",
              "  .colab-df-quickchart {\n",
              "      --bg-color: #E8F0FE;\n",
              "      --fill-color: #1967D2;\n",
              "      --hover-bg-color: #E2EBFA;\n",
              "      --hover-fill-color: #174EA6;\n",
              "      --disabled-fill-color: #AAA;\n",
              "      --disabled-bg-color: #DDD;\n",
              "  }\n",
              "\n",
              "  [theme=dark] .colab-df-quickchart {\n",
              "      --bg-color: #3B4455;\n",
              "      --fill-color: #D2E3FC;\n",
              "      --hover-bg-color: #434B5C;\n",
              "      --hover-fill-color: #FFFFFF;\n",
              "      --disabled-bg-color: #3B4455;\n",
              "      --disabled-fill-color: #666;\n",
              "  }\n",
              "\n",
              "  .colab-df-quickchart {\n",
              "    background-color: var(--bg-color);\n",
              "    border: none;\n",
              "    border-radius: 50%;\n",
              "    cursor: pointer;\n",
              "    display: none;\n",
              "    fill: var(--fill-color);\n",
              "    height: 32px;\n",
              "    padding: 0;\n",
              "    width: 32px;\n",
              "  }\n",
              "\n",
              "  .colab-df-quickchart:hover {\n",
              "    background-color: var(--hover-bg-color);\n",
              "    box-shadow: 0 1px 2px rgba(60, 64, 67, 0.3), 0 1px 3px 1px rgba(60, 64, 67, 0.15);\n",
              "    fill: var(--button-hover-fill-color);\n",
              "  }\n",
              "\n",
              "  .colab-df-quickchart-complete:disabled,\n",
              "  .colab-df-quickchart-complete:disabled:hover {\n",
              "    background-color: var(--disabled-bg-color);\n",
              "    fill: var(--disabled-fill-color);\n",
              "    box-shadow: none;\n",
              "  }\n",
              "\n",
              "  .colab-df-spinner {\n",
              "    border: 2px solid var(--fill-color);\n",
              "    border-color: transparent;\n",
              "    border-bottom-color: var(--fill-color);\n",
              "    animation:\n",
              "      spin 1s steps(1) infinite;\n",
              "  }\n",
              "\n",
              "  @keyframes spin {\n",
              "    0% {\n",
              "      border-color: transparent;\n",
              "      border-bottom-color: var(--fill-color);\n",
              "      border-left-color: var(--fill-color);\n",
              "    }\n",
              "    20% {\n",
              "      border-color: transparent;\n",
              "      border-left-color: var(--fill-color);\n",
              "      border-top-color: var(--fill-color);\n",
              "    }\n",
              "    30% {\n",
              "      border-color: transparent;\n",
              "      border-left-color: var(--fill-color);\n",
              "      border-top-color: var(--fill-color);\n",
              "      border-right-color: var(--fill-color);\n",
              "    }\n",
              "    40% {\n",
              "      border-color: transparent;\n",
              "      border-right-color: var(--fill-color);\n",
              "      border-top-color: var(--fill-color);\n",
              "    }\n",
              "    60% {\n",
              "      border-color: transparent;\n",
              "      border-right-color: var(--fill-color);\n",
              "    }\n",
              "    80% {\n",
              "      border-color: transparent;\n",
              "      border-right-color: var(--fill-color);\n",
              "      border-bottom-color: var(--fill-color);\n",
              "    }\n",
              "    90% {\n",
              "      border-color: transparent;\n",
              "      border-bottom-color: var(--fill-color);\n",
              "    }\n",
              "  }\n",
              "</style>\n",
              "\n",
              "  <script>\n",
              "    async function quickchart(key) {\n",
              "      const quickchartButtonEl =\n",
              "        document.querySelector('#' + key + ' button');\n",
              "      quickchartButtonEl.disabled = true;  // To prevent multiple clicks.\n",
              "      quickchartButtonEl.classList.add('colab-df-spinner');\n",
              "      try {\n",
              "        const charts = await google.colab.kernel.invokeFunction(\n",
              "            'suggestCharts', [key], {});\n",
              "      } catch (error) {\n",
              "        console.error('Error during call to suggestCharts:', error);\n",
              "      }\n",
              "      quickchartButtonEl.classList.remove('colab-df-spinner');\n",
              "      quickchartButtonEl.classList.add('colab-df-quickchart-complete');\n",
              "    }\n",
              "    (() => {\n",
              "      let quickchartButtonEl =\n",
              "        document.querySelector('#df-591c1644-58b0-49d6-bf0a-2801d7434cdb button');\n",
              "      quickchartButtonEl.style.display =\n",
              "        google.colab.kernel.accessAllowed ? 'block' : 'none';\n",
              "    })();\n",
              "  </script>\n",
              "</div>\n",
              "    </div>\n",
              "  </div>\n"
            ],
            "text/plain": [
              "     id      title                              genres  \\\n",
              "0   862  Toy Story   [\"Animation\", \"Comedy\", \"Family\"]   \n",
              "1  8844    Jumanji  [\"Adventure\", \"Fantasy\", \"Family\"]   \n",
              "\n",
              "                                            overview  \\\n",
              "0  Led by Woody, Andy's toys live happily in his ...   \n",
              "1  When siblings Judy and Peter discover an encha...   \n",
              "\n",
              "                                production_companies  \\\n",
              "0                        [\"Pixar Animation Studios\"]   \n",
              "1  [\"TriStar Pictures\", \"Teitler Film\", \"Intersco...   \n",
              "\n",
              "           production_countries release_date  runtime  vote_average  \\\n",
              "0  [\"United States of America\"]   1995-10-30       81           7.7   \n",
              "1  [\"United States of America\"]   1995-12-15      104           6.9   \n",
              "\n",
              "   vote_count                                               cast  \\\n",
              "0        5415          [\"Tom Hanks\", \"Tim Allen\", \"Don Rickles\"]   \n",
              "1        2413  [\"Robin Williams\", \"Jonathan Hyde\", \"Kirsten D...   \n",
              "\n",
              "                                            keywords       director  \\\n",
              "0                         [\"jealousy\", \"toy\", \"boy\"]  John Lasseter   \n",
              "1  [\"board game\", \"disappearance\", \"based on chil...   Joe Johnston   \n",
              "\n",
              "   weight_rating  \n",
              "0          7.401  \n",
              "1          6.592  "
            ]
          },
          "execution_count": 3,
          "metadata": {},
          "output_type": "execute_result"
        }
      ],
      "source": [
        "df = pd.read_csv(\"/home/relationskatie/Downloads/dataset_23k_v2.csv\")\n",
        "df.head(2)"
      ]
    },
    {
      "cell_type": "markdown",
      "metadata": {
        "id": "H3CRSnD1mKNw"
      },
      "source": [
        "#KNN"
      ]
    },
    {
      "cell_type": "code",
      "execution_count": null,
      "metadata": {
        "id": "Pm2__awkpven"
      },
      "outputs": [],
      "source": [
        "def get_str(x):\n",
        "  return ' '.join(x[1: -1].replace('\"', '').split(', '))"
      ]
    },
    {
      "cell_type": "code",
      "execution_count": null,
      "metadata": {
        "id": "58ipBgjwqchu"
      },
      "outputs": [],
      "source": [
        "def clean_data(s: str):\n",
        "  return str.lower(s.replace(',', '').replace('.', ''))"
      ]
    },
    {
      "cell_type": "code",
      "execution_count": null,
      "metadata": {
        "id": "TJ8rqLQRpaXP"
      },
      "outputs": [],
      "source": [
        "df['features'] = df['title'] + ' ' + df['overview'] + ' ' + df['genres'].apply(get_str) + ' ' + df['director'] + ' ' + df['cast'].apply(get_str) + ' ' + df['keywords'].apply(get_str)\n",
        "df['features'] = df['features'].apply(clean_data)"
      ]
    },
    {
      "cell_type": "code",
      "execution_count": null,
      "metadata": {
        "id": "fRoFkJWakYNP"
      },
      "outputs": [],
      "source": [
        "tf = TfidfVectorizer(analyzer='word', ngram_range=(1, 3))\n",
        "tfidf_matrix = tf.fit_transform(df['features'])"
      ]
    },
    {
      "cell_type": "code",
      "execution_count": null,
      "metadata": {
        "id": "q-j7s5K1kgQp"
      },
      "outputs": [],
      "source": [
        "tf_cos = linear_kernel(tfidf_matrix, tfidf_matrix)"
      ]
    },
    {
      "cell_type": "code",
      "execution_count": null,
      "metadata": {
        "id": "mYGc5B7lIUZD"
      },
      "outputs": [],
      "source": [
        "def get_recommendations(id: int, cosine_sim=tf_cos, popularity_threshold=0.65):\n",
        "    # Находим индекс фильма\n",
        "    idx = df[df['id'] == id].index[0]\n",
        "    # Получаем косинусное сходство с другими фильмами\n",
        "    sim_scores = list(enumerate(cosine_sim[idx]))\n",
        "    sim_scores = sorted(sim_scores, key=lambda x: x[1], reverse=True)\n",
        "\n",
        "    # Извлекаем индексы 10 наиболее похожих фильмов\n",
        "    sim_scores = sim_scores[1:]  # Убираем сам фильм\n",
        "    movie_indices = [i[0] for i in sim_scores]\n",
        "\n",
        "    # Фильтруем фильмы по популярности (WR)\n",
        "    popular_movies = df.iloc[movie_indices]\n",
        "    popular_movies = popular_movies[popular_movies['weight_rating'] >= popularity_threshold][:10]\n",
        "\n",
        "    # Возвращаем названия фильмов\n",
        "    return popular_movies['title'].tolist()"
      ]
    },
    {
      "cell_type": "code",
      "execution_count": null,
      "metadata": {
        "colab": {
          "base_uri": "https://localhost:8080/"
        },
        "id": "EYxg80smf_RK",
        "outputId": "9b3808c7-16f8-4696-feb5-a81fa2bc4276"
      },
      "outputs": [
        {
          "data": {
            "text/plain": [
              "['tfidf_matrix.pkl']"
            ]
          },
          "execution_count": 14,
          "metadata": {},
          "output_type": "execute_result"
        }
      ],
      "source": [
        "joblib.dump(tfidf_matrix, 'tfidf_matrix.pkl')"
      ]
    },
    {
      "cell_type": "code",
      "execution_count": null,
      "metadata": {
        "colab": {
          "base_uri": "https://localhost:8080/"
        },
        "id": "UzBC8Iv9j9QG",
        "outputId": "1fb6fb38-b3d2-402f-dd9a-7b02b7b410d6"
      },
      "outputs": [
        {
          "data": {
            "text/plain": [
              "['tf_cos.pkl']"
            ]
          },
          "execution_count": 15,
          "metadata": {},
          "output_type": "execute_result"
        }
      ],
      "source": [
        "joblib.dump(tf_cos, 'tf_cos.pkl')"
      ]
    }
  ],
  "metadata": {
    "colab": {
      "provenance": []
    },
    "kernelspec": {
      "display_name": "Python 3",
      "name": "python3"
    },
    "language_info": {
      "name": "python"
    }
  },
  "nbformat": 4,
  "nbformat_minor": 0
}
